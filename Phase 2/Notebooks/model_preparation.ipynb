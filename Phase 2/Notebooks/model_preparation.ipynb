{
 "cells": [
  {
   "cell_type": "code",
   "execution_count": null,
   "id": "a8e541f5",
   "metadata": {},
   "outputs": [],
   "source": [
    "import sys\n",
    "sys.path.append(\"F:\\Programming\\Projects\\GlassDoor sentiment analysis\\Phase 2\\Src\")\n",
    "\n",
    "import data_preprocessing\n",
    "from model import build_sentiment_model\n",
    "from train import train_epoch, eval_model\n",
    "from glassdoor_dataset_class import GlassdoorDataset\n",
    "\n",
    "import os\n",
    "import torch\n",
    "import numpy as np\n",
    "import pandas as pd\n",
    "from torch.utils.data import Dataset, DataLoader\n",
    "from sklearn.model_selection import train_test_split\n",
    "from sklearn.utils.class_weight import compute_class_weight\n",
    "from transformers import AutoTokenizer, get_linear_schedule_with_warmup\n",
    "# from transformers.optimization import AdamW\n"
   ]
  },
  {
   "cell_type": "code",
   "execution_count": 2,
   "id": "c4496602",
   "metadata": {},
   "outputs": [],
   "source": [
    "EPOCHS = 3\n",
    "NUM_CLASSES = 2\n",
    "BATCH_SIZE = 8\n",
    "LEARNING_RATE = 2e-5\n",
    "MAX_SEQUENCE_LENGTH = 256\n",
    "PRE_TRAINED_MODEL_NAME = 'distilbert-base-uncased'\n",
    "DEVICE = 'cuda' if torch.cuda.is_available() else 'cpu'\n",
    "MODEL_PATH = '..\\\\Models\\\\distilbert BERT model'"
   ]
  },
  {
   "cell_type": "code",
   "execution_count": 3,
   "id": "c732a597",
   "metadata": {},
   "outputs": [
    {
     "data": {
      "application/vnd.microsoft.datawrangler.viewer.v0+json": {
       "columns": [
        {
         "name": "index",
         "rawType": "int64",
         "type": "integer"
        },
        {
         "name": "headline",
         "rawType": "object",
         "type": "string"
        },
        {
         "name": "pros",
         "rawType": "object",
         "type": "string"
        },
        {
         "name": "cons",
         "rawType": "object",
         "type": "string"
        },
        {
         "name": "sentiment",
         "rawType": "object",
         "type": "string"
        }
       ],
       "ref": "ba19b6ea-4fde-4965-81cb-cb44bd4d6bc7",
       "rows": [
        [
         "0",
         "Young colleagues, poor micro management",
         "Very friendly and welcoming to new staff. Easy going ethic.",
         "Poor salaries, poor training and communication.",
         "Negative"
        ],
        [
         "1",
         "Excellent staff, poor salary",
         "Friendly, helpful and hard-working colleagues",
         "Poor salary which doesn't improve much with progression, no incentive to work harder, high turnover of staff, poor systems",
         "Negative"
        ],
        [
         "2",
         "Low salary, bad micromanagement",
         "Easy to get the job even without experience in finance",
         "Very low salary, poor working conditions, very little training provided but high expectations. Micro management are young, inexperienced and superficial girls who are not able to provide guidance and support for their teams.",
         "Negative"
        ],
        [
         "3",
         "Over promised under delivered",
         "Nice staff to work with",
         "No career progression and salary is poor",
         "Positive"
        ],
        [
         "4",
         "client reporting admin",
         "Easy to get the job, Nice colleagues.",
         "Abysmal pay, around minimum wage. No actual training for your job role. No incentive to improve. training. Leaves a bad taste in the mouth when the CEO drives a roll royce and the majority of the workers are payed so lowly",
         "Negative"
        ]
       ],
       "shape": {
        "columns": 4,
        "rows": 5
       }
      },
      "text/html": [
       "<div>\n",
       "<style scoped>\n",
       "    .dataframe tbody tr th:only-of-type {\n",
       "        vertical-align: middle;\n",
       "    }\n",
       "\n",
       "    .dataframe tbody tr th {\n",
       "        vertical-align: top;\n",
       "    }\n",
       "\n",
       "    .dataframe thead th {\n",
       "        text-align: right;\n",
       "    }\n",
       "</style>\n",
       "<table border=\"1\" class=\"dataframe\">\n",
       "  <thead>\n",
       "    <tr style=\"text-align: right;\">\n",
       "      <th></th>\n",
       "      <th>headline</th>\n",
       "      <th>pros</th>\n",
       "      <th>cons</th>\n",
       "      <th>sentiment</th>\n",
       "    </tr>\n",
       "  </thead>\n",
       "  <tbody>\n",
       "    <tr>\n",
       "      <th>0</th>\n",
       "      <td>Young colleagues, poor micro management</td>\n",
       "      <td>Very friendly and welcoming to new staff. Easy...</td>\n",
       "      <td>Poor salaries, poor training and communication.</td>\n",
       "      <td>Negative</td>\n",
       "    </tr>\n",
       "    <tr>\n",
       "      <th>1</th>\n",
       "      <td>Excellent staff, poor salary</td>\n",
       "      <td>Friendly, helpful and hard-working colleagues</td>\n",
       "      <td>Poor salary which doesn't improve much with pr...</td>\n",
       "      <td>Negative</td>\n",
       "    </tr>\n",
       "    <tr>\n",
       "      <th>2</th>\n",
       "      <td>Low salary, bad micromanagement</td>\n",
       "      <td>Easy to get the job even without experience in...</td>\n",
       "      <td>Very low salary, poor working conditions, very...</td>\n",
       "      <td>Negative</td>\n",
       "    </tr>\n",
       "    <tr>\n",
       "      <th>3</th>\n",
       "      <td>Over promised under delivered</td>\n",
       "      <td>Nice staff to work with</td>\n",
       "      <td>No career progression and salary is poor</td>\n",
       "      <td>Positive</td>\n",
       "    </tr>\n",
       "    <tr>\n",
       "      <th>4</th>\n",
       "      <td>client reporting admin</td>\n",
       "      <td>Easy to get the job, Nice colleagues.</td>\n",
       "      <td>Abysmal pay, around minimum wage. No actual tr...</td>\n",
       "      <td>Negative</td>\n",
       "    </tr>\n",
       "  </tbody>\n",
       "</table>\n",
       "</div>"
      ],
      "text/plain": [
       "                                  headline  \\\n",
       "0  Young colleagues, poor micro management   \n",
       "1             Excellent staff, poor salary   \n",
       "2          Low salary, bad micromanagement   \n",
       "3            Over promised under delivered   \n",
       "4                   client reporting admin   \n",
       "\n",
       "                                                pros  \\\n",
       "0  Very friendly and welcoming to new staff. Easy...   \n",
       "1      Friendly, helpful and hard-working colleagues   \n",
       "2  Easy to get the job even without experience in...   \n",
       "3                            Nice staff to work with   \n",
       "4              Easy to get the job, Nice colleagues.   \n",
       "\n",
       "                                                cons sentiment  \n",
       "0    Poor salaries, poor training and communication.  Negative  \n",
       "1  Poor salary which doesn't improve much with pr...  Negative  \n",
       "2  Very low salary, poor working conditions, very...  Negative  \n",
       "3           No career progression and salary is poor  Positive  \n",
       "4  Abysmal pay, around minimum wage. No actual tr...  Negative  "
      ]
     },
     "execution_count": 3,
     "metadata": {},
     "output_type": "execute_result"
    }
   ],
   "source": [
    "sentiment_data = pd.read_csv(\"..\\..\\\\Data\\\\Sentiment_data_2.csv\")\n",
    "sentiment_data.head()"
   ]
  },
  {
   "cell_type": "code",
   "execution_count": 4,
   "id": "ce507734",
   "metadata": {},
   "outputs": [
    {
     "data": {
      "application/vnd.microsoft.datawrangler.viewer.v0+json": {
       "columns": [
        {
         "name": "sentiment",
         "rawType": "object",
         "type": "string"
        },
        {
         "name": "proportion",
         "rawType": "float64",
         "type": "float"
        }
       ],
       "ref": "c6bb857f-7dac-480e-aada-e08737047790",
       "rows": [
        [
         "Positive",
         "0.8404812501341576"
        ],
        [
         "Negative",
         "0.1595187498658424"
        ]
       ],
       "shape": {
        "columns": 1,
        "rows": 2
       }
      },
      "text/plain": [
       "sentiment\n",
       "Positive    0.840481\n",
       "Negative    0.159519\n",
       "Name: proportion, dtype: float64"
      ]
     },
     "execution_count": 4,
     "metadata": {},
     "output_type": "execute_result"
    }
   ],
   "source": [
    "sentiment_data['sentiment'].value_counts(normalize=1)"
   ]
  },
  {
   "cell_type": "markdown",
   "id": "33aa48cd",
   "metadata": {},
   "source": [
    "## Data preprocessing"
   ]
  },
  {
   "cell_type": "markdown",
   "id": "4b340741",
   "metadata": {},
   "source": [
    "### compining headline, pros, cons into one column as full text"
   ]
  },
  {
   "cell_type": "code",
   "execution_count": 5,
   "id": "46df3387",
   "metadata": {},
   "outputs": [
    {
     "name": "stdout",
     "output_type": "stream",
     "text": [
      "Young colleagues, poor micro management\n",
      "Very friendly and welcoming to new staff. Easy going ethic.\n",
      "Poor salaries, poor training and communication.\n"
     ]
    }
   ],
   "source": [
    "sentiment_data['text'] = data_preprocessing.compine_sentiment_text(sentiment_data)\n",
    "print(sentiment_data['text'][0])"
   ]
  },
  {
   "cell_type": "markdown",
   "id": "93ed9507",
   "metadata": {},
   "source": [
    "### Cleaning the generated text"
   ]
  },
  {
   "cell_type": "code",
   "execution_count": 6,
   "id": "4902431b",
   "metadata": {},
   "outputs": [
    {
     "name": "stdout",
     "output_type": "stream",
     "text": [
      "young colleagues poor micro management\n",
      "very friendly and welcoming to new staff easy going ethic\n",
      "poor salaries poor training and communication\n"
     ]
    }
   ],
   "source": [
    "sentiment_data['text'] = sentiment_data['text'].apply(data_preprocessing.clean_text)\n",
    "print(sentiment_data['text'][0])"
   ]
  },
  {
   "cell_type": "markdown",
   "id": "cc01519d",
   "metadata": {},
   "source": [
    "### Encoding label"
   ]
  },
  {
   "cell_type": "code",
   "execution_count": 7,
   "id": "db11ae63",
   "metadata": {},
   "outputs": [
    {
     "data": {
      "application/vnd.microsoft.datawrangler.viewer.v0+json": {
       "columns": [
        {
         "name": "index",
         "rawType": "int64",
         "type": "integer"
        },
        {
         "name": "headline",
         "rawType": "object",
         "type": "string"
        },
        {
         "name": "pros",
         "rawType": "object",
         "type": "string"
        },
        {
         "name": "cons",
         "rawType": "object",
         "type": "string"
        },
        {
         "name": "sentiment",
         "rawType": "object",
         "type": "string"
        },
        {
         "name": "text",
         "rawType": "object",
         "type": "string"
        },
        {
         "name": "sentiment_encoded",
         "rawType": "int32",
         "type": "integer"
        }
       ],
       "ref": "f2eb5f46-41a4-4abe-a2d3-7f113843fd2b",
       "rows": [
        [
         "0",
         "Young colleagues, poor micro management",
         "Very friendly and welcoming to new staff. Easy going ethic.",
         "Poor salaries, poor training and communication.",
         "Negative",
         "young colleagues poor micro management\nvery friendly and welcoming to new staff easy going ethic\npoor salaries poor training and communication",
         "0"
        ],
        [
         "1",
         "Excellent staff, poor salary",
         "Friendly, helpful and hard-working colleagues",
         "Poor salary which doesn't improve much with progression, no incentive to work harder, high turnover of staff, poor systems",
         "Negative",
         "excellent staff poor salary\nfriendly helpful and hardworking colleagues\npoor salary which doesnt improve much with progression no incentive to work harder high turnover of staff poor systems",
         "0"
        ],
        [
         "2",
         "Low salary, bad micromanagement",
         "Easy to get the job even without experience in finance",
         "Very low salary, poor working conditions, very little training provided but high expectations. Micro management are young, inexperienced and superficial girls who are not able to provide guidance and support for their teams.",
         "Negative",
         "low salary bad micromanagement\neasy to get the job even without experience in finance\nvery low salary poor working conditions very little training provided but high expectations micro management are young inexperienced and superficial girls who are not able to provide guidance and support for their teams",
         "0"
        ],
        [
         "3",
         "Over promised under delivered",
         "Nice staff to work with",
         "No career progression and salary is poor",
         "Positive",
         "over promised under delivered\nnice staff to work with\nno career progression and salary is poor",
         "1"
        ],
        [
         "4",
         "client reporting admin",
         "Easy to get the job, Nice colleagues.",
         "Abysmal pay, around minimum wage. No actual training for your job role. No incentive to improve. training. Leaves a bad taste in the mouth when the CEO drives a roll royce and the majority of the workers are payed so lowly",
         "Negative",
         "client reporting admin\neasy to get the job nice colleagues\nabysmal pay around minimum wage no actual training for your job role no incentive to improve training leaves a bad taste in the mouth when the ceo drives a roll royce and the majority of the workers are payed so lowly",
         "0"
        ]
       ],
       "shape": {
        "columns": 6,
        "rows": 5
       }
      },
      "text/html": [
       "<div>\n",
       "<style scoped>\n",
       "    .dataframe tbody tr th:only-of-type {\n",
       "        vertical-align: middle;\n",
       "    }\n",
       "\n",
       "    .dataframe tbody tr th {\n",
       "        vertical-align: top;\n",
       "    }\n",
       "\n",
       "    .dataframe thead th {\n",
       "        text-align: right;\n",
       "    }\n",
       "</style>\n",
       "<table border=\"1\" class=\"dataframe\">\n",
       "  <thead>\n",
       "    <tr style=\"text-align: right;\">\n",
       "      <th></th>\n",
       "      <th>headline</th>\n",
       "      <th>pros</th>\n",
       "      <th>cons</th>\n",
       "      <th>sentiment</th>\n",
       "      <th>text</th>\n",
       "      <th>sentiment_encoded</th>\n",
       "    </tr>\n",
       "  </thead>\n",
       "  <tbody>\n",
       "    <tr>\n",
       "      <th>0</th>\n",
       "      <td>Young colleagues, poor micro management</td>\n",
       "      <td>Very friendly and welcoming to new staff. Easy...</td>\n",
       "      <td>Poor salaries, poor training and communication.</td>\n",
       "      <td>Negative</td>\n",
       "      <td>young colleagues poor micro management\\nvery f...</td>\n",
       "      <td>0</td>\n",
       "    </tr>\n",
       "    <tr>\n",
       "      <th>1</th>\n",
       "      <td>Excellent staff, poor salary</td>\n",
       "      <td>Friendly, helpful and hard-working colleagues</td>\n",
       "      <td>Poor salary which doesn't improve much with pr...</td>\n",
       "      <td>Negative</td>\n",
       "      <td>excellent staff poor salary\\nfriendly helpful ...</td>\n",
       "      <td>0</td>\n",
       "    </tr>\n",
       "    <tr>\n",
       "      <th>2</th>\n",
       "      <td>Low salary, bad micromanagement</td>\n",
       "      <td>Easy to get the job even without experience in...</td>\n",
       "      <td>Very low salary, poor working conditions, very...</td>\n",
       "      <td>Negative</td>\n",
       "      <td>low salary bad micromanagement\\neasy to get th...</td>\n",
       "      <td>0</td>\n",
       "    </tr>\n",
       "    <tr>\n",
       "      <th>3</th>\n",
       "      <td>Over promised under delivered</td>\n",
       "      <td>Nice staff to work with</td>\n",
       "      <td>No career progression and salary is poor</td>\n",
       "      <td>Positive</td>\n",
       "      <td>over promised under delivered\\nnice staff to w...</td>\n",
       "      <td>1</td>\n",
       "    </tr>\n",
       "    <tr>\n",
       "      <th>4</th>\n",
       "      <td>client reporting admin</td>\n",
       "      <td>Easy to get the job, Nice colleagues.</td>\n",
       "      <td>Abysmal pay, around minimum wage. No actual tr...</td>\n",
       "      <td>Negative</td>\n",
       "      <td>client reporting admin\\neasy to get the job ni...</td>\n",
       "      <td>0</td>\n",
       "    </tr>\n",
       "  </tbody>\n",
       "</table>\n",
       "</div>"
      ],
      "text/plain": [
       "                                  headline  \\\n",
       "0  Young colleagues, poor micro management   \n",
       "1             Excellent staff, poor salary   \n",
       "2          Low salary, bad micromanagement   \n",
       "3            Over promised under delivered   \n",
       "4                   client reporting admin   \n",
       "\n",
       "                                                pros  \\\n",
       "0  Very friendly and welcoming to new staff. Easy...   \n",
       "1      Friendly, helpful and hard-working colleagues   \n",
       "2  Easy to get the job even without experience in...   \n",
       "3                            Nice staff to work with   \n",
       "4              Easy to get the job, Nice colleagues.   \n",
       "\n",
       "                                                cons sentiment  \\\n",
       "0    Poor salaries, poor training and communication.  Negative   \n",
       "1  Poor salary which doesn't improve much with pr...  Negative   \n",
       "2  Very low salary, poor working conditions, very...  Negative   \n",
       "3           No career progression and salary is poor  Positive   \n",
       "4  Abysmal pay, around minimum wage. No actual tr...  Negative   \n",
       "\n",
       "                                                text  sentiment_encoded  \n",
       "0  young colleagues poor micro management\\nvery f...                  0  \n",
       "1  excellent staff poor salary\\nfriendly helpful ...                  0  \n",
       "2  low salary bad micromanagement\\neasy to get th...                  0  \n",
       "3  over promised under delivered\\nnice staff to w...                  1  \n",
       "4  client reporting admin\\neasy to get the job ni...                  0  "
      ]
     },
     "execution_count": 7,
     "metadata": {},
     "output_type": "execute_result"
    }
   ],
   "source": [
    "sentiment_data['sentiment_encoded'] = data_preprocessing.label_encoding(sentiment_data, label='sentiment')\n",
    "sentiment_data.head()"
   ]
  },
  {
   "cell_type": "markdown",
   "id": "8293d19b",
   "metadata": {},
   "source": [
    "### Data Sampling"
   ]
  },
  {
   "cell_type": "code",
   "execution_count": 8,
   "id": "93f6c9c3",
   "metadata": {},
   "outputs": [],
   "source": [
    "sentiment_data_sample = sentiment_data.sample(n = 100000, random_state=42)"
   ]
  },
  {
   "cell_type": "markdown",
   "id": "64c80c4e",
   "metadata": {},
   "source": [
    "### Class weight for data balancing"
   ]
  },
  {
   "cell_type": "code",
   "execution_count": 9,
   "id": "6f96dfc8",
   "metadata": {},
   "outputs": [],
   "source": [
    "# class_labels = np.unique(sentiment_data_sample['sentiment_encoded'])\n",
    "# class_weights = compute_class_weight(\n",
    "#     class_weight='balanced',\n",
    "#     classes=class_labels,\n",
    "#     y=sentiment_data_sample['sentiment_encoded']\n",
    "# )\n",
    "# class_weight_dict = dict(enumerate(class_weights))\n",
    "\n",
    "# print(f\"Calculated Class Weights: {class_weight_dict}\")"
   ]
  },
  {
   "cell_type": "markdown",
   "id": "3cfdb44b",
   "metadata": {},
   "source": [
    "### Spliting the data"
   ]
  },
  {
   "cell_type": "code",
   "execution_count": 10,
   "id": "417a3c72",
   "metadata": {},
   "outputs": [],
   "source": [
    "X = sentiment_data_sample['text'].to_list()\n",
    "y = sentiment_data_sample['sentiment_encoded'].to_list()"
   ]
  },
  {
   "cell_type": "code",
   "execution_count": 11,
   "id": "fa9b0ed4",
   "metadata": {},
   "outputs": [],
   "source": [
    "X_train, X_test, y_train, y_test = train_test_split(\n",
    "        X,\n",
    "        y,\n",
    "        test_size=0.2,\n",
    "        random_state=42,\n",
    "        stratify=y\n",
    "    )"
   ]
  },
  {
   "cell_type": "markdown",
   "id": "959326e3",
   "metadata": {},
   "source": [
    "### Tokenizing the text data"
   ]
  },
  {
   "cell_type": "code",
   "execution_count": 12,
   "id": "6d7f09fa",
   "metadata": {},
   "outputs": [],
   "source": [
    "tokenizer = AutoTokenizer.from_pretrained(PRE_TRAINED_MODEL_NAME)\n"
   ]
  },
  {
   "cell_type": "code",
   "execution_count": 13,
   "id": "fe1621cc",
   "metadata": {},
   "outputs": [],
   "source": [
    "train_dataset = GlassdoorDataset(X_train, y_train, tokenizer, MAX_SEQUENCE_LENGTH)\n",
    "val_dataset = GlassdoorDataset(X_test, y_test, tokenizer, MAX_SEQUENCE_LENGTH)\n"
   ]
  },
  {
   "cell_type": "code",
   "execution_count": 14,
   "id": "c738a1a0",
   "metadata": {},
   "outputs": [],
   "source": [
    "train_loader = DataLoader(train_dataset, batch_size=BATCH_SIZE, shuffle=True)\n",
    "val_loader = DataLoader(val_dataset, batch_size=BATCH_SIZE)\n",
    "\n"
   ]
  },
  {
   "cell_type": "code",
   "execution_count": 15,
   "id": "f9d95fd8",
   "metadata": {},
   "outputs": [],
   "source": [
    "model = build_sentiment_model(PRE_TRAINED_MODEL_NAME, NUM_CLASSES).to(DEVICE)\n",
    "\n"
   ]
  },
  {
   "cell_type": "code",
   "execution_count": 16,
   "id": "f7984978",
   "metadata": {},
   "outputs": [],
   "source": [
    "optimizer = torch.optim.AdamW(model.parameters(), lr=LEARNING_RATE)\n",
    "total_steps = len(train_loader) * EPOCHS\n",
    "scheduler = get_linear_schedule_with_warmup(\n",
    "    optimizer, num_warmup_steps=0, num_training_steps=total_steps\n",
    ")\n",
    "\n"
   ]
  },
  {
   "cell_type": "code",
   "execution_count": 17,
   "id": "c300b76a",
   "metadata": {},
   "outputs": [],
   "source": [
    "class_weights = compute_class_weight(\n",
    "    'balanced', classes=np.unique(sentiment_data_sample['sentiment_encoded']), y=sentiment_data_sample['sentiment_encoded']\n",
    ")\n",
    "loss_fn = torch.nn.CrossEntropyLoss(weight=torch.tensor(class_weights, dtype=torch.float)).to(DEVICE)\n",
    "\n",
    "\n"
   ]
  },
  {
   "cell_type": "code",
   "execution_count": 18,
   "id": "dff9689d",
   "metadata": {},
   "outputs": [
    {
     "name": "stdout",
     "output_type": "stream",
     "text": [
      "--- Epoch 1/3 ---\n",
      "Train loss: 0.4994711431757722 - train accuracy: 0.892575\n",
      "Val accuracy: 0.9041\n",
      "Best model saved.\n",
      "--- Epoch 2/3 ---\n",
      "Train loss: 0.43979871402326387 - train accuracy: 0.921325\n",
      "Val accuracy: 0.9050\n",
      "Best model saved.\n",
      "--- Epoch 3/3 ---\n",
      "Train loss: 0.3686004652203177 - train accuracy: 0.9441125\n",
      "Val accuracy: 0.9004\n",
      "\n",
      "Training complete.\n",
      "Best validation accuracy: 0.9050\n",
      "Model and tokenizer saved to ..\\Models\\distilbert BERT model\n"
     ]
    }
   ],
   "source": [
    "best_accuracy = 0\n",
    "for epoch in range(EPOCHS):\n",
    "    print(f'--- Epoch {epoch + 1}/{EPOCHS} ---')\n",
    "    train_loss, train_accuracy = train_epoch(model, train_loader, loss_fn, optimizer, DEVICE, scheduler)\n",
    "    print(f'Train loss: {train_loss} - train accuracy: {train_accuracy}')\n",
    "\n",
    "    val_acc = eval_model(model, val_loader, DEVICE)\n",
    "    print(f'Val accuracy: {val_acc:.4f}')\n",
    "\n",
    "    if val_acc > best_accuracy:\n",
    "        os.makedirs(MODEL_PATH, exist_ok=True)\n",
    "\n",
    "        # Save model weights\n",
    "        torch.save(model.state_dict(), os.path.join(MODEL_PATH, \"best_model.pt\"))\n",
    "\n",
    "        # Save tokenizer in Hugging Face format\n",
    "        tokenizer.save_pretrained(MODEL_PATH)\n",
    "\n",
    "        best_accuracy = val_acc\n",
    "        print(\"Best model saved.\")\n",
    "\n",
    "\n",
    "print(\"\\nTraining complete.\")\n",
    "print(f\"Best validation accuracy: {best_accuracy:.4f}\")\n",
    "print(f\"Model and tokenizer saved to {MODEL_PATH}\")"
   ]
  }
 ],
 "metadata": {
  "kernelspec": {
   "display_name": "AI_env",
   "language": "python",
   "name": "python3"
  },
  "language_info": {
   "codemirror_mode": {
    "name": "ipython",
    "version": 3
   },
   "file_extension": ".py",
   "mimetype": "text/x-python",
   "name": "python",
   "nbconvert_exporter": "python",
   "pygments_lexer": "ipython3",
   "version": "3.9.15"
  }
 },
 "nbformat": 4,
 "nbformat_minor": 5
}
