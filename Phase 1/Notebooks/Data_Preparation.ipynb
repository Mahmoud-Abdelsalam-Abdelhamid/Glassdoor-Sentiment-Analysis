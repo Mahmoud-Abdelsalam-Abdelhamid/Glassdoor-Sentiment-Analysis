{
 "cells": [
  {
   "cell_type": "code",
   "execution_count": 1,
   "id": "ab049bf0",
   "metadata": {},
   "outputs": [],
   "source": [
    "import numpy as np\n",
    "import pandas as pd\n",
    "import seaborn as sns\n",
    "import matplotlib.pyplot as plt\n",
    "\n",
    "from sklearn.impute import SimpleImputer\n",
    "\n",
    "import sys\n",
    "sys.path.append(\"F:\\Programming\\Projects\\GlassDoor sentiment analysis\\Phase 1\\Src\")\n",
    "import data_preprocessing\n",
    "\n",
    "\n",
    "%matplotlib inline"
   ]
  },
  {
   "cell_type": "code",
   "execution_count": 2,
   "id": "e32ad462",
   "metadata": {},
   "outputs": [
    {
     "data": {
      "application/vnd.microsoft.datawrangler.viewer.v0+json": {
       "columns": [
        {
         "name": "index",
         "rawType": "int64",
         "type": "integer"
        },
        {
         "name": "firm",
         "rawType": "object",
         "type": "string"
        },
        {
         "name": "date_review",
         "rawType": "object",
         "type": "string"
        },
        {
         "name": "job_title",
         "rawType": "object",
         "type": "string"
        },
        {
         "name": "current",
         "rawType": "object",
         "type": "string"
        },
        {
         "name": "location",
         "rawType": "object",
         "type": "unknown"
        },
        {
         "name": "overall_rating",
         "rawType": "int64",
         "type": "integer"
        },
        {
         "name": "work_life_balance",
         "rawType": "float64",
         "type": "float"
        },
        {
         "name": "culture_values",
         "rawType": "float64",
         "type": "float"
        },
        {
         "name": "diversity_inclusion",
         "rawType": "float64",
         "type": "float"
        },
        {
         "name": "career_opp",
         "rawType": "float64",
         "type": "float"
        },
        {
         "name": "comp_benefits",
         "rawType": "float64",
         "type": "float"
        },
        {
         "name": "senior_mgmt",
         "rawType": "float64",
         "type": "float"
        },
        {
         "name": "recommend",
         "rawType": "object",
         "type": "string"
        },
        {
         "name": "ceo_approv",
         "rawType": "object",
         "type": "string"
        },
        {
         "name": "outlook",
         "rawType": "object",
         "type": "string"
        },
        {
         "name": "headline",
         "rawType": "object",
         "type": "string"
        },
        {
         "name": "pros",
         "rawType": "object",
         "type": "string"
        },
        {
         "name": "cons",
         "rawType": "object",
         "type": "string"
        }
       ],
       "ref": "7b881550-29e3-489f-bd74-52db4682fc8f",
       "rows": [
        [
         "0",
         "AFH-Wealth-Management",
         "2015-04-05",
         " ",
         "Current Employee",
         null,
         "2",
         "4.0",
         "3.0",
         null,
         "2.0",
         "3.0",
         "3.0",
         "x",
         "o",
         "r",
         "Young colleagues, poor micro management",
         "Very friendly and welcoming to new staff. Easy going ethic.",
         "Poor salaries, poor training and communication."
        ],
        [
         "1",
         "AFH-Wealth-Management",
         "2015-12-11",
         " Office Administrator",
         "Current Employee, more than 1 year",
         "Bromsgrove, England, England",
         "2",
         "3.0",
         "1.0",
         null,
         "2.0",
         "1.0",
         "4.0",
         "x",
         "o",
         "r",
         "Excellent staff, poor salary",
         "Friendly, helpful and hard-working colleagues",
         "Poor salary which doesn't improve much with progression, no incentive to work harder, high turnover of staff, poor systems"
        ],
        [
         "2",
         "AFH-Wealth-Management",
         "2016-01-28",
         " Office Administrator",
         "Current Employee, less than 1 year",
         "Bromsgrove, England, England",
         "1",
         "1.0",
         "1.0",
         null,
         "1.0",
         "1.0",
         "1.0",
         "x",
         "o",
         "x",
         "Low salary, bad micromanagement",
         "Easy to get the job even without experience in finance",
         "Very low salary, poor working conditions, very little training provided but high expectations. Micro management are young, inexperienced and superficial girls who are not able to provide guidance and support for their teams."
        ],
        [
         "3",
         "AFH-Wealth-Management",
         "2016-04-16",
         " ",
         "Current Employee",
         null,
         "5",
         "2.0",
         "3.0",
         null,
         "2.0",
         "2.0",
         "3.0",
         "x",
         "o",
         "r",
         "Over promised under delivered",
         "Nice staff to work with",
         "No career progression and salary is poor"
        ],
        [
         "4",
         "AFH-Wealth-Management",
         "2016-04-23",
         " Office Administrator",
         "Current Employee, more than 1 year",
         "Bromsgrove, England, England",
         "1",
         "2.0",
         "1.0",
         null,
         "2.0",
         "1.0",
         "1.0",
         "x",
         "o",
         "x",
         "client reporting admin",
         "Easy to get the job, Nice colleagues.",
         "Abysmal pay, around minimum wage. No actual training for your job role. No incentive to improve. training. Leaves a bad taste in the mouth when the CEO drives a roll royce and the majority of the workers are payed so lowly"
        ]
       ],
       "shape": {
        "columns": 18,
        "rows": 5
       }
      },
      "text/html": [
       "<div>\n",
       "<style scoped>\n",
       "    .dataframe tbody tr th:only-of-type {\n",
       "        vertical-align: middle;\n",
       "    }\n",
       "\n",
       "    .dataframe tbody tr th {\n",
       "        vertical-align: top;\n",
       "    }\n",
       "\n",
       "    .dataframe thead th {\n",
       "        text-align: right;\n",
       "    }\n",
       "</style>\n",
       "<table border=\"1\" class=\"dataframe\">\n",
       "  <thead>\n",
       "    <tr style=\"text-align: right;\">\n",
       "      <th></th>\n",
       "      <th>firm</th>\n",
       "      <th>date_review</th>\n",
       "      <th>job_title</th>\n",
       "      <th>current</th>\n",
       "      <th>location</th>\n",
       "      <th>overall_rating</th>\n",
       "      <th>work_life_balance</th>\n",
       "      <th>culture_values</th>\n",
       "      <th>diversity_inclusion</th>\n",
       "      <th>career_opp</th>\n",
       "      <th>comp_benefits</th>\n",
       "      <th>senior_mgmt</th>\n",
       "      <th>recommend</th>\n",
       "      <th>ceo_approv</th>\n",
       "      <th>outlook</th>\n",
       "      <th>headline</th>\n",
       "      <th>pros</th>\n",
       "      <th>cons</th>\n",
       "    </tr>\n",
       "  </thead>\n",
       "  <tbody>\n",
       "    <tr>\n",
       "      <th>0</th>\n",
       "      <td>AFH-Wealth-Management</td>\n",
       "      <td>2015-04-05</td>\n",
       "      <td></td>\n",
       "      <td>Current Employee</td>\n",
       "      <td>NaN</td>\n",
       "      <td>2</td>\n",
       "      <td>4.0</td>\n",
       "      <td>3.0</td>\n",
       "      <td>NaN</td>\n",
       "      <td>2.0</td>\n",
       "      <td>3.0</td>\n",
       "      <td>3.0</td>\n",
       "      <td>x</td>\n",
       "      <td>o</td>\n",
       "      <td>r</td>\n",
       "      <td>Young colleagues, poor micro management</td>\n",
       "      <td>Very friendly and welcoming to new staff. Easy...</td>\n",
       "      <td>Poor salaries, poor training and communication.</td>\n",
       "    </tr>\n",
       "    <tr>\n",
       "      <th>1</th>\n",
       "      <td>AFH-Wealth-Management</td>\n",
       "      <td>2015-12-11</td>\n",
       "      <td>Office Administrator</td>\n",
       "      <td>Current Employee, more than 1 year</td>\n",
       "      <td>Bromsgrove, England, England</td>\n",
       "      <td>2</td>\n",
       "      <td>3.0</td>\n",
       "      <td>1.0</td>\n",
       "      <td>NaN</td>\n",
       "      <td>2.0</td>\n",
       "      <td>1.0</td>\n",
       "      <td>4.0</td>\n",
       "      <td>x</td>\n",
       "      <td>o</td>\n",
       "      <td>r</td>\n",
       "      <td>Excellent staff, poor salary</td>\n",
       "      <td>Friendly, helpful and hard-working colleagues</td>\n",
       "      <td>Poor salary which doesn't improve much with pr...</td>\n",
       "    </tr>\n",
       "    <tr>\n",
       "      <th>2</th>\n",
       "      <td>AFH-Wealth-Management</td>\n",
       "      <td>2016-01-28</td>\n",
       "      <td>Office Administrator</td>\n",
       "      <td>Current Employee, less than 1 year</td>\n",
       "      <td>Bromsgrove, England, England</td>\n",
       "      <td>1</td>\n",
       "      <td>1.0</td>\n",
       "      <td>1.0</td>\n",
       "      <td>NaN</td>\n",
       "      <td>1.0</td>\n",
       "      <td>1.0</td>\n",
       "      <td>1.0</td>\n",
       "      <td>x</td>\n",
       "      <td>o</td>\n",
       "      <td>x</td>\n",
       "      <td>Low salary, bad micromanagement</td>\n",
       "      <td>Easy to get the job even without experience in...</td>\n",
       "      <td>Very low salary, poor working conditions, very...</td>\n",
       "    </tr>\n",
       "    <tr>\n",
       "      <th>3</th>\n",
       "      <td>AFH-Wealth-Management</td>\n",
       "      <td>2016-04-16</td>\n",
       "      <td></td>\n",
       "      <td>Current Employee</td>\n",
       "      <td>NaN</td>\n",
       "      <td>5</td>\n",
       "      <td>2.0</td>\n",
       "      <td>3.0</td>\n",
       "      <td>NaN</td>\n",
       "      <td>2.0</td>\n",
       "      <td>2.0</td>\n",
       "      <td>3.0</td>\n",
       "      <td>x</td>\n",
       "      <td>o</td>\n",
       "      <td>r</td>\n",
       "      <td>Over promised under delivered</td>\n",
       "      <td>Nice staff to work with</td>\n",
       "      <td>No career progression and salary is poor</td>\n",
       "    </tr>\n",
       "    <tr>\n",
       "      <th>4</th>\n",
       "      <td>AFH-Wealth-Management</td>\n",
       "      <td>2016-04-23</td>\n",
       "      <td>Office Administrator</td>\n",
       "      <td>Current Employee, more than 1 year</td>\n",
       "      <td>Bromsgrove, England, England</td>\n",
       "      <td>1</td>\n",
       "      <td>2.0</td>\n",
       "      <td>1.0</td>\n",
       "      <td>NaN</td>\n",
       "      <td>2.0</td>\n",
       "      <td>1.0</td>\n",
       "      <td>1.0</td>\n",
       "      <td>x</td>\n",
       "      <td>o</td>\n",
       "      <td>x</td>\n",
       "      <td>client reporting admin</td>\n",
       "      <td>Easy to get the job, Nice colleagues.</td>\n",
       "      <td>Abysmal pay, around minimum wage. No actual tr...</td>\n",
       "    </tr>\n",
       "  </tbody>\n",
       "</table>\n",
       "</div>"
      ],
      "text/plain": [
       "                    firm date_review              job_title  \\\n",
       "0  AFH-Wealth-Management  2015-04-05                          \n",
       "1  AFH-Wealth-Management  2015-12-11   Office Administrator   \n",
       "2  AFH-Wealth-Management  2016-01-28   Office Administrator   \n",
       "3  AFH-Wealth-Management  2016-04-16                          \n",
       "4  AFH-Wealth-Management  2016-04-23   Office Administrator   \n",
       "\n",
       "                              current                      location  \\\n",
       "0                    Current Employee                           NaN   \n",
       "1  Current Employee, more than 1 year  Bromsgrove, England, England   \n",
       "2  Current Employee, less than 1 year  Bromsgrove, England, England   \n",
       "3                    Current Employee                           NaN   \n",
       "4  Current Employee, more than 1 year  Bromsgrove, England, England   \n",
       "\n",
       "   overall_rating  work_life_balance  culture_values  diversity_inclusion  \\\n",
       "0               2                4.0             3.0                  NaN   \n",
       "1               2                3.0             1.0                  NaN   \n",
       "2               1                1.0             1.0                  NaN   \n",
       "3               5                2.0             3.0                  NaN   \n",
       "4               1                2.0             1.0                  NaN   \n",
       "\n",
       "   career_opp  comp_benefits  senior_mgmt recommend ceo_approv outlook  \\\n",
       "0         2.0            3.0          3.0         x          o       r   \n",
       "1         2.0            1.0          4.0         x          o       r   \n",
       "2         1.0            1.0          1.0         x          o       x   \n",
       "3         2.0            2.0          3.0         x          o       r   \n",
       "4         2.0            1.0          1.0         x          o       x   \n",
       "\n",
       "                                  headline  \\\n",
       "0  Young colleagues, poor micro management   \n",
       "1             Excellent staff, poor salary   \n",
       "2          Low salary, bad micromanagement   \n",
       "3            Over promised under delivered   \n",
       "4                   client reporting admin   \n",
       "\n",
       "                                                pros  \\\n",
       "0  Very friendly and welcoming to new staff. Easy...   \n",
       "1      Friendly, helpful and hard-working colleagues   \n",
       "2  Easy to get the job even without experience in...   \n",
       "3                            Nice staff to work with   \n",
       "4              Easy to get the job, Nice colleagues.   \n",
       "\n",
       "                                                cons  \n",
       "0    Poor salaries, poor training and communication.  \n",
       "1  Poor salary which doesn't improve much with pr...  \n",
       "2  Very low salary, poor working conditions, very...  \n",
       "3           No career progression and salary is poor  \n",
       "4  Abysmal pay, around minimum wage. No actual tr...  "
      ]
     },
     "execution_count": 2,
     "metadata": {},
     "output_type": "execute_result"
    }
   ],
   "source": [
    "data = pd.read_csv('../../Data/glassdoor_reviews.csv')\n",
    "data.head()"
   ]
  },
  {
   "cell_type": "code",
   "execution_count": 3,
   "id": "b634b4bb",
   "metadata": {},
   "outputs": [
    {
     "data": {
      "text/plain": [
       "Index(['firm', 'date_review', 'job_title', 'current', 'location',\n",
       "       'overall_rating', 'work_life_balance', 'culture_values',\n",
       "       'diversity_inclusion', 'career_opp', 'comp_benefits', 'senior_mgmt',\n",
       "       'recommend', 'ceo_approv', 'outlook', 'headline', 'pros', 'cons'],\n",
       "      dtype='object')"
      ]
     },
     "execution_count": 3,
     "metadata": {},
     "output_type": "execute_result"
    }
   ],
   "source": [
    "data.columns"
   ]
  },
  {
   "cell_type": "code",
   "execution_count": 4,
   "id": "902cd555",
   "metadata": {},
   "outputs": [
    {
     "data": {
      "text/plain": [
       "838566"
      ]
     },
     "execution_count": 4,
     "metadata": {},
     "output_type": "execute_result"
    }
   ],
   "source": [
    "len(data)"
   ]
  },
  {
   "cell_type": "code",
   "execution_count": 3,
   "id": "a4587e98",
   "metadata": {},
   "outputs": [
    {
     "data": {
      "application/vnd.microsoft.datawrangler.viewer.v0+json": {
       "columns": [
        {
         "name": "index",
         "rawType": "object",
         "type": "string"
        },
        {
         "name": "0",
         "rawType": "float64",
         "type": "float"
        }
       ],
       "ref": "b567e3fc-f3fe-4efe-9ba3-919976fa72c6",
       "rows": [
        [
         "firm",
         "0.0"
        ],
        [
         "date_review",
         "0.0"
        ],
        [
         "job_title",
         "0.0"
        ],
        [
         "current",
         "0.0"
        ],
        [
         "location",
         "35.45850893072221"
        ],
        [
         "overall_rating",
         "0.0"
        ],
        [
         "work_life_balance",
         "17.875039054767306"
        ],
        [
         "culture_values",
         "22.821459491560592"
        ],
        [
         "diversity_inclusion",
         "83.77396650949359"
        ],
        [
         "career_opp",
         "17.589670938244577"
        ],
        [
         "comp_benefits",
         "17.897458279968422"
        ],
        [
         "senior_mgmt",
         "18.588399720475195"
        ],
        [
         "recommend",
         "0.0"
        ],
        [
         "ceo_approv",
         "0.0"
        ],
        [
         "outlook",
         "0.0"
        ],
        [
         "headline",
         "0.30886060250475217"
        ],
        [
         "pros",
         "0.00023850239575656538"
        ],
        [
         "cons",
         "0.001550265572417675"
        ]
       ],
       "shape": {
        "columns": 1,
        "rows": 18
       }
      },
      "text/plain": [
       "firm                    0.000000\n",
       "date_review             0.000000\n",
       "job_title               0.000000\n",
       "current                 0.000000\n",
       "location               35.458509\n",
       "overall_rating          0.000000\n",
       "work_life_balance      17.875039\n",
       "culture_values         22.821459\n",
       "diversity_inclusion    83.773967\n",
       "career_opp             17.589671\n",
       "comp_benefits          17.897458\n",
       "senior_mgmt            18.588400\n",
       "recommend               0.000000\n",
       "ceo_approv              0.000000\n",
       "outlook                 0.000000\n",
       "headline                0.308861\n",
       "pros                    0.000239\n",
       "cons                    0.001550\n",
       "dtype: float64"
      ]
     },
     "execution_count": 3,
     "metadata": {},
     "output_type": "execute_result"
    }
   ],
   "source": [
    "data.isnull().sum()/len(data)*100"
   ]
  },
  {
   "cell_type": "markdown",
   "id": "4db47945",
   "metadata": {},
   "source": [
    "# Data Cleaning"
   ]
  },
  {
   "cell_type": "markdown",
   "id": "1a392f71",
   "metadata": {},
   "source": [
    "## Unnecessary columns removal"
   ]
  },
  {
   "cell_type": "markdown",
   "id": "20fcbef5",
   "metadata": {},
   "source": [
    "### diversity_inclusion column has so many missing values around 84%, and it's not necessary for our model or analysis so better to remove it"
   ]
  },
  {
   "cell_type": "code",
   "execution_count": 3,
   "id": "4397f606",
   "metadata": {},
   "outputs": [
    {
     "data": {
      "application/vnd.microsoft.datawrangler.viewer.v0+json": {
       "columns": [
        {
         "name": "index",
         "rawType": "object",
         "type": "string"
        },
        {
         "name": "0",
         "rawType": "float64",
         "type": "float"
        }
       ],
       "ref": "96e6a756-1011-4e87-895d-2d88ff174dc9",
       "rows": [
        [
         "firm",
         "0.0"
        ],
        [
         "date_review",
         "0.0"
        ],
        [
         "job_title",
         "0.0"
        ],
        [
         "current",
         "0.0"
        ],
        [
         "location",
         "35.45850893072221"
        ],
        [
         "overall_rating",
         "0.0"
        ],
        [
         "work_life_balance",
         "17.875039054767306"
        ],
        [
         "culture_values",
         "22.821459491560592"
        ],
        [
         "career_opp",
         "17.589670938244577"
        ],
        [
         "comp_benefits",
         "17.897458279968422"
        ],
        [
         "senior_mgmt",
         "18.588399720475195"
        ],
        [
         "recommend",
         "0.0"
        ],
        [
         "ceo_approv",
         "0.0"
        ],
        [
         "outlook",
         "0.0"
        ],
        [
         "headline",
         "0.30886060250475217"
        ],
        [
         "pros",
         "0.00023850239575656538"
        ],
        [
         "cons",
         "0.001550265572417675"
        ]
       ],
       "shape": {
        "columns": 1,
        "rows": 17
       }
      },
      "text/plain": [
       "firm                  0.000000\n",
       "date_review           0.000000\n",
       "job_title             0.000000\n",
       "current               0.000000\n",
       "location             35.458509\n",
       "overall_rating        0.000000\n",
       "work_life_balance    17.875039\n",
       "culture_values       22.821459\n",
       "career_opp           17.589671\n",
       "comp_benefits        17.897458\n",
       "senior_mgmt          18.588400\n",
       "recommend             0.000000\n",
       "ceo_approv            0.000000\n",
       "outlook               0.000000\n",
       "headline              0.308861\n",
       "pros                  0.000239\n",
       "cons                  0.001550\n",
       "dtype: float64"
      ]
     },
     "execution_count": 3,
     "metadata": {},
     "output_type": "execute_result"
    }
   ],
   "source": [
    "data_cleaned = data.copy()\n",
    "\n",
    "data_cleaned.drop('diversity_inclusion', inplace = True, axis = 1)\n",
    "data_cleaned.isnull().sum()/len(data_cleaned)*100"
   ]
  },
  {
   "cell_type": "markdown",
   "id": "4554ab0b",
   "metadata": {},
   "source": [
    "## Missing values Imputing"
   ]
  },
  {
   "cell_type": "markdown",
   "id": "76a0f357",
   "metadata": {},
   "source": [
    "### For the rest of the numeric columns we can impute them"
   ]
  },
  {
   "cell_type": "code",
   "execution_count": 7,
   "id": "1ece5842",
   "metadata": {},
   "outputs": [],
   "source": [
    "imputer = SimpleImputer(strategy='median')"
   ]
  },
  {
   "cell_type": "code",
   "execution_count": 8,
   "id": "81a37f45",
   "metadata": {},
   "outputs": [],
   "source": [
    "missing_numeric_cols = ['work_life_balance', 'culture_values', 'career_opp', 'comp_benefits', 'senior_mgmt']\n",
    "\n",
    "data_cleaned[missing_numeric_cols] = pd.DataFrame(imputer.fit_transform(data_cleaned[missing_numeric_cols]), columns = missing_numeric_cols)"
   ]
  },
  {
   "cell_type": "code",
   "execution_count": 5,
   "id": "77efce8f",
   "metadata": {},
   "outputs": [
    {
     "data": {
      "application/vnd.microsoft.datawrangler.viewer.v0+json": {
       "columns": [
        {
         "name": "index",
         "rawType": "object",
         "type": "string"
        },
        {
         "name": "0",
         "rawType": "float64",
         "type": "float"
        }
       ],
       "ref": "d0d61427-79ac-4869-89ed-e7c08a6d4520",
       "rows": [
        [
         "firm",
         "0.0"
        ],
        [
         "date_review",
         "0.0"
        ],
        [
         "job_title",
         "0.0"
        ],
        [
         "location",
         "35.45850893072221"
        ],
        [
         "overall_rating",
         "0.0"
        ],
        [
         "work_life_balance",
         "17.875039054767306"
        ],
        [
         "culture_values",
         "22.821459491560592"
        ],
        [
         "career_opp",
         "17.589670938244577"
        ],
        [
         "comp_benefits",
         "17.897458279968422"
        ],
        [
         "senior_mgmt",
         "18.588399720475195"
        ],
        [
         "recommend",
         "0.0"
        ],
        [
         "ceo_approv",
         "0.0"
        ],
        [
         "outlook",
         "0.0"
        ],
        [
         "headline",
         "0.30886060250475217"
        ],
        [
         "pros",
         "0.00023850239575656538"
        ],
        [
         "cons",
         "0.001550265572417675"
        ],
        [
         "current_state",
         "0.0"
        ],
        [
         "emp_state",
         "0.0"
        ],
        [
         "emp_working_years",
         "0.0"
        ]
       ],
       "shape": {
        "columns": 1,
        "rows": 19
       }
      },
      "text/plain": [
       "firm                  0.000000\n",
       "date_review           0.000000\n",
       "job_title             0.000000\n",
       "location             35.458509\n",
       "overall_rating        0.000000\n",
       "work_life_balance    17.875039\n",
       "culture_values       22.821459\n",
       "career_opp           17.589671\n",
       "comp_benefits        17.897458\n",
       "senior_mgmt          18.588400\n",
       "recommend             0.000000\n",
       "ceo_approv            0.000000\n",
       "outlook               0.000000\n",
       "headline              0.308861\n",
       "pros                  0.000239\n",
       "cons                  0.001550\n",
       "current_state         0.000000\n",
       "emp_state             0.000000\n",
       "emp_working_years     0.000000\n",
       "dtype: float64"
      ]
     },
     "execution_count": 5,
     "metadata": {},
     "output_type": "execute_result"
    }
   ],
   "source": [
    "data_cleaned.isnull().sum()/len(data_cleaned)*100"
   ]
  },
  {
   "cell_type": "markdown",
   "id": "55c572d5",
   "metadata": {},
   "source": [
    "## Text columns cleaning"
   ]
  },
  {
   "cell_type": "markdown",
   "id": "d45c0085",
   "metadata": {},
   "source": [
    "### Headline, Pros, and Cons columns"
   ]
  },
  {
   "cell_type": "markdown",
   "id": "a5b85650",
   "metadata": {},
   "source": [
    "For text columns like headline, pros, and cons, we can replace the missing values with space or empty string"
   ]
  },
  {
   "cell_type": "code",
   "execution_count": 10,
   "id": "94f0ccf8",
   "metadata": {},
   "outputs": [],
   "source": [
    "data_cleaned[['headline', 'pros', 'cons']] = data_cleaned[['headline', 'pros', 'cons']].fillna('')"
   ]
  },
  {
   "cell_type": "code",
   "execution_count": 11,
   "id": "bc0571cd",
   "metadata": {},
   "outputs": [
    {
     "data": {
      "application/vnd.microsoft.datawrangler.viewer.v0+json": {
       "columns": [
        {
         "name": "index",
         "rawType": "object",
         "type": "string"
        },
        {
         "name": "0",
         "rawType": "float64",
         "type": "float"
        }
       ],
       "ref": "a958480b-03b4-4a5e-a6af-94613a1f87c5",
       "rows": [
        [
         "firm",
         "0.0"
        ],
        [
         "date_review",
         "0.0"
        ],
        [
         "job_title",
         "0.0"
        ],
        [
         "current",
         "0.0"
        ],
        [
         "location",
         "35.45850893072221"
        ],
        [
         "overall_rating",
         "0.0"
        ],
        [
         "work_life_balance",
         "0.0"
        ],
        [
         "culture_values",
         "0.0"
        ],
        [
         "career_opp",
         "0.0"
        ],
        [
         "comp_benefits",
         "0.0"
        ],
        [
         "senior_mgmt",
         "0.0"
        ],
        [
         "recommend",
         "0.0"
        ],
        [
         "ceo_approv",
         "0.0"
        ],
        [
         "outlook",
         "0.0"
        ],
        [
         "headline",
         "0.0"
        ],
        [
         "pros",
         "0.0"
        ],
        [
         "cons",
         "0.0"
        ]
       ],
       "shape": {
        "columns": 1,
        "rows": 17
       }
      },
      "text/plain": [
       "firm                  0.000000\n",
       "date_review           0.000000\n",
       "job_title             0.000000\n",
       "current               0.000000\n",
       "location             35.458509\n",
       "overall_rating        0.000000\n",
       "work_life_balance     0.000000\n",
       "culture_values        0.000000\n",
       "career_opp            0.000000\n",
       "comp_benefits         0.000000\n",
       "senior_mgmt           0.000000\n",
       "recommend             0.000000\n",
       "ceo_approv            0.000000\n",
       "outlook               0.000000\n",
       "headline              0.000000\n",
       "pros                  0.000000\n",
       "cons                  0.000000\n",
       "dtype: float64"
      ]
     },
     "execution_count": 11,
     "metadata": {},
     "output_type": "execute_result"
    }
   ],
   "source": [
    "data_cleaned.isnull().sum()/len(data_cleaned)*100"
   ]
  },
  {
   "cell_type": "markdown",
   "id": "a6a6579e",
   "metadata": {},
   "source": [
    "### Location Column"
   ]
  },
  {
   "cell_type": "markdown",
   "id": "a8a5a72a",
   "metadata": {},
   "source": [
    "First we should simply fill the missing values with \"Unknown\""
   ]
  },
  {
   "cell_type": "code",
   "execution_count": 8,
   "id": "69b98d07",
   "metadata": {},
   "outputs": [],
   "source": [
    "data_cleaned['location'] = data_cleaned['location'].fillna('Unknown')"
   ]
  },
  {
   "cell_type": "markdown",
   "id": "444fd32c",
   "metadata": {},
   "source": [
    "### Current Column"
   ]
  },
  {
   "cell_type": "markdown",
   "id": "90f09d2a",
   "metadata": {},
   "source": [
    "Let's split this column into three meaningfull columns:\n",
    "- current: \"Current\", \"Former\"\n",
    "- emp state: \"Employee\", \"Temporary Employee\", \"Contractor\", \"Intern\", Freelancer\n",
    "- emp working years"
   ]
  },
  {
   "cell_type": "code",
   "execution_count": 13,
   "id": "ebc46430",
   "metadata": {},
   "outputs": [
    {
     "data": {
      "text/plain": [
       "array(['Current Employee', 'Current Employee, more than 1 year',\n",
       "       'Current Employee, less than 1 year', 'Former Employee',\n",
       "       'Current Employee, more than 5 years',\n",
       "       'Former Employee, more than 1 year',\n",
       "       'Former Employee, more than 3 years',\n",
       "       'Former Employee, more than 5 years',\n",
       "       'Current Employee, more than 3 years',\n",
       "       'Current Employee, more than 8 years',\n",
       "       'Former Employee, less than 1 year',\n",
       "       'Former Employee, more than 8 years',\n",
       "       'Current Employee, more than 10 years',\n",
       "       'Former Employee, more than 10 years',\n",
       "       'Former Contractor, less than 1 year',\n",
       "       'Former Intern, less than 1 year',\n",
       "       'Current Contractor, less than 1 year', 'Former Contractor',\n",
       "       'Former Intern, more than 1 year', 'Current Contractor',\n",
       "       'Former Intern', 'Current Intern, less than 1 year',\n",
       "       'Current Contractor, more than 1 year',\n",
       "       'Former Contractor, more than 1 year',\n",
       "       'Former Contractor, more than 8 years',\n",
       "       'Former Temporary Employee',\n",
       "       'KEY NOT FOUND: jobLine.per_diem-former',\n",
       "       'Current Freelancer, more than 3 years',\n",
       "       'KEY NOT FOUND: jobLine.temporary-former'], dtype=object)"
      ]
     },
     "execution_count": 13,
     "metadata": {},
     "output_type": "execute_result"
    }
   ],
   "source": [
    "data_cleaned['current'].unique()"
   ]
  },
  {
   "cell_type": "code",
   "execution_count": 4,
   "id": "9bcddfa8",
   "metadata": {},
   "outputs": [
    {
     "data": {
      "application/vnd.microsoft.datawrangler.viewer.v0+json": {
       "columns": [
        {
         "name": "index",
         "rawType": "int64",
         "type": "integer"
        },
        {
         "name": "firm",
         "rawType": "object",
         "type": "string"
        },
        {
         "name": "date_review",
         "rawType": "object",
         "type": "string"
        },
        {
         "name": "job_title",
         "rawType": "object",
         "type": "string"
        },
        {
         "name": "location",
         "rawType": "object",
         "type": "unknown"
        },
        {
         "name": "overall_rating",
         "rawType": "int64",
         "type": "integer"
        },
        {
         "name": "work_life_balance",
         "rawType": "float64",
         "type": "float"
        },
        {
         "name": "culture_values",
         "rawType": "float64",
         "type": "float"
        },
        {
         "name": "career_opp",
         "rawType": "float64",
         "type": "float"
        },
        {
         "name": "comp_benefits",
         "rawType": "float64",
         "type": "float"
        },
        {
         "name": "senior_mgmt",
         "rawType": "float64",
         "type": "float"
        },
        {
         "name": "recommend",
         "rawType": "object",
         "type": "string"
        },
        {
         "name": "ceo_approv",
         "rawType": "object",
         "type": "string"
        },
        {
         "name": "outlook",
         "rawType": "object",
         "type": "string"
        },
        {
         "name": "headline",
         "rawType": "object",
         "type": "string"
        },
        {
         "name": "pros",
         "rawType": "object",
         "type": "string"
        },
        {
         "name": "cons",
         "rawType": "object",
         "type": "string"
        },
        {
         "name": "current_state",
         "rawType": "object",
         "type": "string"
        },
        {
         "name": "emp_state",
         "rawType": "object",
         "type": "string"
        },
        {
         "name": "emp_working_years",
         "rawType": "object",
         "type": "string"
        }
       ],
       "ref": "9364a3c3-176c-4c11-8a2e-218fd483268d",
       "rows": [
        [
         "0",
         "AFH-Wealth-Management",
         "2015-04-05",
         " ",
         null,
         "2",
         "4.0",
         "3.0",
         "2.0",
         "3.0",
         "3.0",
         "x",
         "o",
         "r",
         "Young colleagues, poor micro management",
         "Very friendly and welcoming to new staff. Easy going ethic.",
         "Poor salaries, poor training and communication.",
         "Current",
         "Employee",
         "Unknown"
        ],
        [
         "1",
         "AFH-Wealth-Management",
         "2015-12-11",
         " Office Administrator",
         "Bromsgrove, England, England",
         "2",
         "3.0",
         "1.0",
         "2.0",
         "1.0",
         "4.0",
         "x",
         "o",
         "r",
         "Excellent staff, poor salary",
         "Friendly, helpful and hard-working colleagues",
         "Poor salary which doesn't improve much with progression, no incentive to work harder, high turnover of staff, poor systems",
         "Current",
         "Employee",
         "more than 1 year"
        ],
        [
         "2",
         "AFH-Wealth-Management",
         "2016-01-28",
         " Office Administrator",
         "Bromsgrove, England, England",
         "1",
         "1.0",
         "1.0",
         "1.0",
         "1.0",
         "1.0",
         "x",
         "o",
         "x",
         "Low salary, bad micromanagement",
         "Easy to get the job even without experience in finance",
         "Very low salary, poor working conditions, very little training provided but high expectations. Micro management are young, inexperienced and superficial girls who are not able to provide guidance and support for their teams.",
         "Current",
         "Employee",
         "less than 1 year"
        ],
        [
         "3",
         "AFH-Wealth-Management",
         "2016-04-16",
         " ",
         null,
         "5",
         "2.0",
         "3.0",
         "2.0",
         "2.0",
         "3.0",
         "x",
         "o",
         "r",
         "Over promised under delivered",
         "Nice staff to work with",
         "No career progression and salary is poor",
         "Current",
         "Employee",
         "Unknown"
        ],
        [
         "4",
         "AFH-Wealth-Management",
         "2016-04-23",
         " Office Administrator",
         "Bromsgrove, England, England",
         "1",
         "2.0",
         "1.0",
         "2.0",
         "1.0",
         "1.0",
         "x",
         "o",
         "x",
         "client reporting admin",
         "Easy to get the job, Nice colleagues.",
         "Abysmal pay, around minimum wage. No actual training for your job role. No incentive to improve. training. Leaves a bad taste in the mouth when the CEO drives a roll royce and the majority of the workers are payed so lowly",
         "Current",
         "Employee",
         "more than 1 year"
        ]
       ],
       "shape": {
        "columns": 19,
        "rows": 5
       }
      },
      "text/html": [
       "<div>\n",
       "<style scoped>\n",
       "    .dataframe tbody tr th:only-of-type {\n",
       "        vertical-align: middle;\n",
       "    }\n",
       "\n",
       "    .dataframe tbody tr th {\n",
       "        vertical-align: top;\n",
       "    }\n",
       "\n",
       "    .dataframe thead th {\n",
       "        text-align: right;\n",
       "    }\n",
       "</style>\n",
       "<table border=\"1\" class=\"dataframe\">\n",
       "  <thead>\n",
       "    <tr style=\"text-align: right;\">\n",
       "      <th></th>\n",
       "      <th>firm</th>\n",
       "      <th>date_review</th>\n",
       "      <th>job_title</th>\n",
       "      <th>location</th>\n",
       "      <th>overall_rating</th>\n",
       "      <th>work_life_balance</th>\n",
       "      <th>culture_values</th>\n",
       "      <th>career_opp</th>\n",
       "      <th>comp_benefits</th>\n",
       "      <th>senior_mgmt</th>\n",
       "      <th>recommend</th>\n",
       "      <th>ceo_approv</th>\n",
       "      <th>outlook</th>\n",
       "      <th>headline</th>\n",
       "      <th>pros</th>\n",
       "      <th>cons</th>\n",
       "      <th>current_state</th>\n",
       "      <th>emp_state</th>\n",
       "      <th>emp_working_years</th>\n",
       "    </tr>\n",
       "  </thead>\n",
       "  <tbody>\n",
       "    <tr>\n",
       "      <th>0</th>\n",
       "      <td>AFH-Wealth-Management</td>\n",
       "      <td>2015-04-05</td>\n",
       "      <td></td>\n",
       "      <td>NaN</td>\n",
       "      <td>2</td>\n",
       "      <td>4.0</td>\n",
       "      <td>3.0</td>\n",
       "      <td>2.0</td>\n",
       "      <td>3.0</td>\n",
       "      <td>3.0</td>\n",
       "      <td>x</td>\n",
       "      <td>o</td>\n",
       "      <td>r</td>\n",
       "      <td>Young colleagues, poor micro management</td>\n",
       "      <td>Very friendly and welcoming to new staff. Easy...</td>\n",
       "      <td>Poor salaries, poor training and communication.</td>\n",
       "      <td>Current</td>\n",
       "      <td>Employee</td>\n",
       "      <td>Unknown</td>\n",
       "    </tr>\n",
       "    <tr>\n",
       "      <th>1</th>\n",
       "      <td>AFH-Wealth-Management</td>\n",
       "      <td>2015-12-11</td>\n",
       "      <td>Office Administrator</td>\n",
       "      <td>Bromsgrove, England, England</td>\n",
       "      <td>2</td>\n",
       "      <td>3.0</td>\n",
       "      <td>1.0</td>\n",
       "      <td>2.0</td>\n",
       "      <td>1.0</td>\n",
       "      <td>4.0</td>\n",
       "      <td>x</td>\n",
       "      <td>o</td>\n",
       "      <td>r</td>\n",
       "      <td>Excellent staff, poor salary</td>\n",
       "      <td>Friendly, helpful and hard-working colleagues</td>\n",
       "      <td>Poor salary which doesn't improve much with pr...</td>\n",
       "      <td>Current</td>\n",
       "      <td>Employee</td>\n",
       "      <td>more than 1 year</td>\n",
       "    </tr>\n",
       "    <tr>\n",
       "      <th>2</th>\n",
       "      <td>AFH-Wealth-Management</td>\n",
       "      <td>2016-01-28</td>\n",
       "      <td>Office Administrator</td>\n",
       "      <td>Bromsgrove, England, England</td>\n",
       "      <td>1</td>\n",
       "      <td>1.0</td>\n",
       "      <td>1.0</td>\n",
       "      <td>1.0</td>\n",
       "      <td>1.0</td>\n",
       "      <td>1.0</td>\n",
       "      <td>x</td>\n",
       "      <td>o</td>\n",
       "      <td>x</td>\n",
       "      <td>Low salary, bad micromanagement</td>\n",
       "      <td>Easy to get the job even without experience in...</td>\n",
       "      <td>Very low salary, poor working conditions, very...</td>\n",
       "      <td>Current</td>\n",
       "      <td>Employee</td>\n",
       "      <td>less than 1 year</td>\n",
       "    </tr>\n",
       "    <tr>\n",
       "      <th>3</th>\n",
       "      <td>AFH-Wealth-Management</td>\n",
       "      <td>2016-04-16</td>\n",
       "      <td></td>\n",
       "      <td>NaN</td>\n",
       "      <td>5</td>\n",
       "      <td>2.0</td>\n",
       "      <td>3.0</td>\n",
       "      <td>2.0</td>\n",
       "      <td>2.0</td>\n",
       "      <td>3.0</td>\n",
       "      <td>x</td>\n",
       "      <td>o</td>\n",
       "      <td>r</td>\n",
       "      <td>Over promised under delivered</td>\n",
       "      <td>Nice staff to work with</td>\n",
       "      <td>No career progression and salary is poor</td>\n",
       "      <td>Current</td>\n",
       "      <td>Employee</td>\n",
       "      <td>Unknown</td>\n",
       "    </tr>\n",
       "    <tr>\n",
       "      <th>4</th>\n",
       "      <td>AFH-Wealth-Management</td>\n",
       "      <td>2016-04-23</td>\n",
       "      <td>Office Administrator</td>\n",
       "      <td>Bromsgrove, England, England</td>\n",
       "      <td>1</td>\n",
       "      <td>2.0</td>\n",
       "      <td>1.0</td>\n",
       "      <td>2.0</td>\n",
       "      <td>1.0</td>\n",
       "      <td>1.0</td>\n",
       "      <td>x</td>\n",
       "      <td>o</td>\n",
       "      <td>x</td>\n",
       "      <td>client reporting admin</td>\n",
       "      <td>Easy to get the job, Nice colleagues.</td>\n",
       "      <td>Abysmal pay, around minimum wage. No actual tr...</td>\n",
       "      <td>Current</td>\n",
       "      <td>Employee</td>\n",
       "      <td>more than 1 year</td>\n",
       "    </tr>\n",
       "  </tbody>\n",
       "</table>\n",
       "</div>"
      ],
      "text/plain": [
       "                    firm date_review              job_title  \\\n",
       "0  AFH-Wealth-Management  2015-04-05                          \n",
       "1  AFH-Wealth-Management  2015-12-11   Office Administrator   \n",
       "2  AFH-Wealth-Management  2016-01-28   Office Administrator   \n",
       "3  AFH-Wealth-Management  2016-04-16                          \n",
       "4  AFH-Wealth-Management  2016-04-23   Office Administrator   \n",
       "\n",
       "                       location  overall_rating  work_life_balance  \\\n",
       "0                           NaN               2                4.0   \n",
       "1  Bromsgrove, England, England               2                3.0   \n",
       "2  Bromsgrove, England, England               1                1.0   \n",
       "3                           NaN               5                2.0   \n",
       "4  Bromsgrove, England, England               1                2.0   \n",
       "\n",
       "   culture_values  career_opp  comp_benefits  senior_mgmt recommend  \\\n",
       "0             3.0         2.0            3.0          3.0         x   \n",
       "1             1.0         2.0            1.0          4.0         x   \n",
       "2             1.0         1.0            1.0          1.0         x   \n",
       "3             3.0         2.0            2.0          3.0         x   \n",
       "4             1.0         2.0            1.0          1.0         x   \n",
       "\n",
       "  ceo_approv outlook                                 headline  \\\n",
       "0          o       r  Young colleagues, poor micro management   \n",
       "1          o       r             Excellent staff, poor salary   \n",
       "2          o       x          Low salary, bad micromanagement   \n",
       "3          o       r            Over promised under delivered   \n",
       "4          o       x                   client reporting admin   \n",
       "\n",
       "                                                pros  \\\n",
       "0  Very friendly and welcoming to new staff. Easy...   \n",
       "1      Friendly, helpful and hard-working colleagues   \n",
       "2  Easy to get the job even without experience in...   \n",
       "3                            Nice staff to work with   \n",
       "4              Easy to get the job, Nice colleagues.   \n",
       "\n",
       "                                                cons current_state emp_state  \\\n",
       "0    Poor salaries, poor training and communication.       Current  Employee   \n",
       "1  Poor salary which doesn't improve much with pr...       Current  Employee   \n",
       "2  Very low salary, poor working conditions, very...       Current  Employee   \n",
       "3           No career progression and salary is poor       Current  Employee   \n",
       "4  Abysmal pay, around minimum wage. No actual tr...       Current  Employee   \n",
       "\n",
       "  emp_working_years  \n",
       "0           Unknown  \n",
       "1  more than 1 year  \n",
       "2  less than 1 year  \n",
       "3           Unknown  \n",
       "4  more than 1 year  "
      ]
     },
     "execution_count": 4,
     "metadata": {},
     "output_type": "execute_result"
    }
   ],
   "source": [
    "data_cleaned = data_preprocessing.parse_job_status(data_cleaned, column = \"current\")\n",
    "data_cleaned = data_cleaned.drop('current', axis = 1)\n",
    "data_cleaned.head()"
   ]
  },
  {
   "cell_type": "code",
   "execution_count": null,
   "id": "f1d449c9",
   "metadata": {},
   "outputs": [],
   "source": [
    "# cols_to_add = ['current_state', 'emp_state', 'emp_working_years']\n",
    "# df_temp = pd.read_csv('../../Data/Analysis_data.csv')\n",
    "# df_temp = pd.concat([df_temp, data_cleaned[cols_to_add]], axis=1)\n",
    "# df_temp.to_csv('../../Data/Analysis_data_.csv')"
   ]
  },
  {
   "cell_type": "markdown",
   "id": "ba3b0f4e",
   "metadata": {},
   "source": [
    "### For the text survey columns, I'll map the values for better interpretting"
   ]
  },
  {
   "cell_type": "code",
   "execution_count": 13,
   "id": "60d8962a",
   "metadata": {},
   "outputs": [
    {
     "data": {
      "application/vnd.microsoft.datawrangler.viewer.v0+json": {
       "columns": [
        {
         "name": "index",
         "rawType": "int64",
         "type": "integer"
        },
        {
         "name": "firm",
         "rawType": "object",
         "type": "string"
        },
        {
         "name": "date_review",
         "rawType": "object",
         "type": "string"
        },
        {
         "name": "job_title",
         "rawType": "object",
         "type": "string"
        },
        {
         "name": "current",
         "rawType": "object",
         "type": "string"
        },
        {
         "name": "location",
         "rawType": "object",
         "type": "string"
        },
        {
         "name": "overall_rating",
         "rawType": "int64",
         "type": "integer"
        },
        {
         "name": "work_life_balance",
         "rawType": "float64",
         "type": "float"
        },
        {
         "name": "culture_values",
         "rawType": "float64",
         "type": "float"
        },
        {
         "name": "career_opp",
         "rawType": "float64",
         "type": "float"
        },
        {
         "name": "comp_benefits",
         "rawType": "float64",
         "type": "float"
        },
        {
         "name": "senior_mgmt",
         "rawType": "float64",
         "type": "float"
        },
        {
         "name": "headline",
         "rawType": "object",
         "type": "string"
        },
        {
         "name": "pros",
         "rawType": "object",
         "type": "string"
        },
        {
         "name": "cons",
         "rawType": "object",
         "type": "string"
        },
        {
         "name": "outlook_clean",
         "rawType": "object",
         "type": "string"
        },
        {
         "name": "recommend_clean",
         "rawType": "object",
         "type": "string"
        },
        {
         "name": "ceo_approv_clean",
         "rawType": "object",
         "type": "string"
        },
        {
         "name": "sentiment",
         "rawType": "object",
         "type": "string"
        }
       ],
       "ref": "32023330-f62e-400b-8cbe-6fa5e49a9195",
       "rows": [
        [
         "0",
         "AFH-Wealth-Management",
         "2015-04-05",
         " ",
         "Current Employee",
         "Unknown",
         "2",
         "4.0",
         "3.0",
         "2.0",
         "3.0",
         "3.0",
         "Young colleagues, poor micro management",
         "Very friendly and welcoming to new staff. Easy going ethic.",
         "Poor salaries, poor training and communication.",
         "Negative",
         "No",
         "Disapprove",
         "Negative"
        ],
        [
         "1",
         "AFH-Wealth-Management",
         "2015-12-11",
         " Office Administrator",
         "Current Employee, more than 1 year",
         "Bromsgrove, England, England",
         "2",
         "3.0",
         "1.0",
         "2.0",
         "1.0",
         "4.0",
         "Excellent staff, poor salary",
         "Friendly, helpful and hard-working colleagues",
         "Poor salary which doesn't improve much with progression, no incentive to work harder, high turnover of staff, poor systems",
         "Negative",
         "No",
         "Disapprove",
         "Negative"
        ],
        [
         "2",
         "AFH-Wealth-Management",
         "2016-01-28",
         " Office Administrator",
         "Current Employee, less than 1 year",
         "Bromsgrove, England, England",
         "1",
         "1.0",
         "1.0",
         "1.0",
         "1.0",
         "1.0",
         "Low salary, bad micromanagement",
         "Easy to get the job even without experience in finance",
         "Very low salary, poor working conditions, very little training provided but high expectations. Micro management are young, inexperienced and superficial girls who are not able to provide guidance and support for their teams.",
         "Other",
         "No",
         "Disapprove",
         "Negative"
        ],
        [
         "3",
         "AFH-Wealth-Management",
         "2016-04-16",
         " ",
         "Current Employee",
         "Unknown",
         "5",
         "2.0",
         "3.0",
         "2.0",
         "2.0",
         "3.0",
         "Over promised under delivered",
         "Nice staff to work with",
         "No career progression and salary is poor",
         "Negative",
         "No",
         "Disapprove",
         "Positive"
        ],
        [
         "4",
         "AFH-Wealth-Management",
         "2016-04-23",
         " Office Administrator",
         "Current Employee, more than 1 year",
         "Bromsgrove, England, England",
         "1",
         "2.0",
         "1.0",
         "2.0",
         "1.0",
         "1.0",
         "client reporting admin",
         "Easy to get the job, Nice colleagues.",
         "Abysmal pay, around minimum wage. No actual training for your job role. No incentive to improve. training. Leaves a bad taste in the mouth when the CEO drives a roll royce and the majority of the workers are payed so lowly",
         "Other",
         "No",
         "Disapprove",
         "Negative"
        ]
       ],
       "shape": {
        "columns": 18,
        "rows": 5
       }
      },
      "text/html": [
       "<div>\n",
       "<style scoped>\n",
       "    .dataframe tbody tr th:only-of-type {\n",
       "        vertical-align: middle;\n",
       "    }\n",
       "\n",
       "    .dataframe tbody tr th {\n",
       "        vertical-align: top;\n",
       "    }\n",
       "\n",
       "    .dataframe thead th {\n",
       "        text-align: right;\n",
       "    }\n",
       "</style>\n",
       "<table border=\"1\" class=\"dataframe\">\n",
       "  <thead>\n",
       "    <tr style=\"text-align: right;\">\n",
       "      <th></th>\n",
       "      <th>firm</th>\n",
       "      <th>date_review</th>\n",
       "      <th>job_title</th>\n",
       "      <th>current</th>\n",
       "      <th>location</th>\n",
       "      <th>overall_rating</th>\n",
       "      <th>work_life_balance</th>\n",
       "      <th>culture_values</th>\n",
       "      <th>career_opp</th>\n",
       "      <th>comp_benefits</th>\n",
       "      <th>senior_mgmt</th>\n",
       "      <th>headline</th>\n",
       "      <th>pros</th>\n",
       "      <th>cons</th>\n",
       "      <th>outlook_clean</th>\n",
       "      <th>recommend_clean</th>\n",
       "      <th>ceo_approv_clean</th>\n",
       "      <th>sentiment</th>\n",
       "    </tr>\n",
       "  </thead>\n",
       "  <tbody>\n",
       "    <tr>\n",
       "      <th>0</th>\n",
       "      <td>AFH-Wealth-Management</td>\n",
       "      <td>2015-04-05</td>\n",
       "      <td></td>\n",
       "      <td>Current Employee</td>\n",
       "      <td>Unknown</td>\n",
       "      <td>2</td>\n",
       "      <td>4.0</td>\n",
       "      <td>3.0</td>\n",
       "      <td>2.0</td>\n",
       "      <td>3.0</td>\n",
       "      <td>3.0</td>\n",
       "      <td>Young colleagues, poor micro management</td>\n",
       "      <td>Very friendly and welcoming to new staff. Easy...</td>\n",
       "      <td>Poor salaries, poor training and communication.</td>\n",
       "      <td>Negative</td>\n",
       "      <td>No</td>\n",
       "      <td>Disapprove</td>\n",
       "      <td>Negative</td>\n",
       "    </tr>\n",
       "    <tr>\n",
       "      <th>1</th>\n",
       "      <td>AFH-Wealth-Management</td>\n",
       "      <td>2015-12-11</td>\n",
       "      <td>Office Administrator</td>\n",
       "      <td>Current Employee, more than 1 year</td>\n",
       "      <td>Bromsgrove, England, England</td>\n",
       "      <td>2</td>\n",
       "      <td>3.0</td>\n",
       "      <td>1.0</td>\n",
       "      <td>2.0</td>\n",
       "      <td>1.0</td>\n",
       "      <td>4.0</td>\n",
       "      <td>Excellent staff, poor salary</td>\n",
       "      <td>Friendly, helpful and hard-working colleagues</td>\n",
       "      <td>Poor salary which doesn't improve much with pr...</td>\n",
       "      <td>Negative</td>\n",
       "      <td>No</td>\n",
       "      <td>Disapprove</td>\n",
       "      <td>Negative</td>\n",
       "    </tr>\n",
       "    <tr>\n",
       "      <th>2</th>\n",
       "      <td>AFH-Wealth-Management</td>\n",
       "      <td>2016-01-28</td>\n",
       "      <td>Office Administrator</td>\n",
       "      <td>Current Employee, less than 1 year</td>\n",
       "      <td>Bromsgrove, England, England</td>\n",
       "      <td>1</td>\n",
       "      <td>1.0</td>\n",
       "      <td>1.0</td>\n",
       "      <td>1.0</td>\n",
       "      <td>1.0</td>\n",
       "      <td>1.0</td>\n",
       "      <td>Low salary, bad micromanagement</td>\n",
       "      <td>Easy to get the job even without experience in...</td>\n",
       "      <td>Very low salary, poor working conditions, very...</td>\n",
       "      <td>Other</td>\n",
       "      <td>No</td>\n",
       "      <td>Disapprove</td>\n",
       "      <td>Negative</td>\n",
       "    </tr>\n",
       "    <tr>\n",
       "      <th>3</th>\n",
       "      <td>AFH-Wealth-Management</td>\n",
       "      <td>2016-04-16</td>\n",
       "      <td></td>\n",
       "      <td>Current Employee</td>\n",
       "      <td>Unknown</td>\n",
       "      <td>5</td>\n",
       "      <td>2.0</td>\n",
       "      <td>3.0</td>\n",
       "      <td>2.0</td>\n",
       "      <td>2.0</td>\n",
       "      <td>3.0</td>\n",
       "      <td>Over promised under delivered</td>\n",
       "      <td>Nice staff to work with</td>\n",
       "      <td>No career progression and salary is poor</td>\n",
       "      <td>Negative</td>\n",
       "      <td>No</td>\n",
       "      <td>Disapprove</td>\n",
       "      <td>Positive</td>\n",
       "    </tr>\n",
       "    <tr>\n",
       "      <th>4</th>\n",
       "      <td>AFH-Wealth-Management</td>\n",
       "      <td>2016-04-23</td>\n",
       "      <td>Office Administrator</td>\n",
       "      <td>Current Employee, more than 1 year</td>\n",
       "      <td>Bromsgrove, England, England</td>\n",
       "      <td>1</td>\n",
       "      <td>2.0</td>\n",
       "      <td>1.0</td>\n",
       "      <td>2.0</td>\n",
       "      <td>1.0</td>\n",
       "      <td>1.0</td>\n",
       "      <td>client reporting admin</td>\n",
       "      <td>Easy to get the job, Nice colleagues.</td>\n",
       "      <td>Abysmal pay, around minimum wage. No actual tr...</td>\n",
       "      <td>Other</td>\n",
       "      <td>No</td>\n",
       "      <td>Disapprove</td>\n",
       "      <td>Negative</td>\n",
       "    </tr>\n",
       "  </tbody>\n",
       "</table>\n",
       "</div>"
      ],
      "text/plain": [
       "                    firm date_review              job_title  \\\n",
       "0  AFH-Wealth-Management  2015-04-05                          \n",
       "1  AFH-Wealth-Management  2015-12-11   Office Administrator   \n",
       "2  AFH-Wealth-Management  2016-01-28   Office Administrator   \n",
       "3  AFH-Wealth-Management  2016-04-16                          \n",
       "4  AFH-Wealth-Management  2016-04-23   Office Administrator   \n",
       "\n",
       "                              current                      location  \\\n",
       "0                    Current Employee                       Unknown   \n",
       "1  Current Employee, more than 1 year  Bromsgrove, England, England   \n",
       "2  Current Employee, less than 1 year  Bromsgrove, England, England   \n",
       "3                    Current Employee                       Unknown   \n",
       "4  Current Employee, more than 1 year  Bromsgrove, England, England   \n",
       "\n",
       "   overall_rating  work_life_balance  culture_values  career_opp  \\\n",
       "0               2                4.0             3.0         2.0   \n",
       "1               2                3.0             1.0         2.0   \n",
       "2               1                1.0             1.0         1.0   \n",
       "3               5                2.0             3.0         2.0   \n",
       "4               1                2.0             1.0         2.0   \n",
       "\n",
       "   comp_benefits  senior_mgmt                                 headline  \\\n",
       "0            3.0          3.0  Young colleagues, poor micro management   \n",
       "1            1.0          4.0             Excellent staff, poor salary   \n",
       "2            1.0          1.0          Low salary, bad micromanagement   \n",
       "3            2.0          3.0            Over promised under delivered   \n",
       "4            1.0          1.0                   client reporting admin   \n",
       "\n",
       "                                                pros  \\\n",
       "0  Very friendly and welcoming to new staff. Easy...   \n",
       "1      Friendly, helpful and hard-working colleagues   \n",
       "2  Easy to get the job even without experience in...   \n",
       "3                            Nice staff to work with   \n",
       "4              Easy to get the job, Nice colleagues.   \n",
       "\n",
       "                                                cons outlook_clean  \\\n",
       "0    Poor salaries, poor training and communication.      Negative   \n",
       "1  Poor salary which doesn't improve much with pr...      Negative   \n",
       "2  Very low salary, poor working conditions, very...         Other   \n",
       "3           No career progression and salary is poor      Negative   \n",
       "4  Abysmal pay, around minimum wage. No actual tr...         Other   \n",
       "\n",
       "  recommend_clean ceo_approv_clean sentiment  \n",
       "0              No       Disapprove  Negative  \n",
       "1              No       Disapprove  Negative  \n",
       "2              No       Disapprove  Negative  \n",
       "3              No       Disapprove  Positive  \n",
       "4              No       Disapprove  Negative  "
      ]
     },
     "execution_count": 13,
     "metadata": {},
     "output_type": "execute_result"
    }
   ],
   "source": [
    "data_cleaned = data_preprocessing.preprocess_survey_columns(data_cleaned)\n",
    "data_cleaned = data_cleaned.drop(['recommend', 'ceo_approv', 'outlook'], axis= 1)\n",
    "data_cleaned.head()"
   ]
  },
  {
   "cell_type": "markdown",
   "id": "7c77fa71",
   "metadata": {},
   "source": [
    "# Now this data is Ready for the analysis, building a useful Dashboard, and building a model"
   ]
  },
  {
   "cell_type": "code",
   "execution_count": 14,
   "id": "a762aaa5",
   "metadata": {},
   "outputs": [],
   "source": [
    "# analysis_file_name = 'Analysis_data.csv'\n",
    "sentiment_file_name = 'Sentiment_data_2.csv'\n",
    "\n",
    "sentiment_cols = ['headline', 'pros', 'cons', 'sentiment']\n",
    "\n",
    "# data_cleaned.drop(sentiment_cols, axis=1).to_csv(f'../Data/{analysis_file_name}', index=False)\n",
    "\n",
    "data_cleaned[sentiment_cols].to_csv(f'../Data/{sentiment_file_name}', index=False)\n"
   ]
  }
 ],
 "metadata": {
  "kernelspec": {
   "display_name": "AI_env",
   "language": "python",
   "name": "python3"
  },
  "language_info": {
   "codemirror_mode": {
    "name": "ipython",
    "version": 3
   },
   "file_extension": ".py",
   "mimetype": "text/x-python",
   "name": "python",
   "nbconvert_exporter": "python",
   "pygments_lexer": "ipython3",
   "version": "3.9.15"
  }
 },
 "nbformat": 4,
 "nbformat_minor": 5
}
